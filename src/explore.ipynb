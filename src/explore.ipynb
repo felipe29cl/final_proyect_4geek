{
    "cells": [
        {
            "cell_type": "markdown",
            "metadata": {},
            "source": [
                "# 1. Definición del Problema"
            ]
        },
        {
            "cell_type": "markdown",
            "metadata": {},
            "source": [
                "Comprender qué tipo de vino debo consumir en consideración del meridaje y mi perfil sociodemográfico."
            ]
        },
        {
            "cell_type": "markdown",
            "metadata": {},
            "source": [
                "# 2. Obtención del conjunto de datos"
            ]
        },
        {
            "cell_type": "code",
            "execution_count": 3,
            "metadata": {},
            "outputs": [
                {
                    "name": "stdout",
                    "output_type": "stream",
                    "text": [
                        "Defaulting to user installation because normal site-packages is not writeable\n",
                        "Requirement already satisfied: selenium in /home/vscode/.local/lib/python3.11/site-packages (4.15.2)\n",
                        "Requirement already satisfied: urllib3[socks]<3,>=1.26 in /home/vscode/.local/lib/python3.11/site-packages (from selenium) (2.0.4)\n",
                        "Requirement already satisfied: trio~=0.17 in /home/vscode/.local/lib/python3.11/site-packages (from selenium) (0.23.1)\n",
                        "Requirement already satisfied: trio-websocket~=0.9 in /home/vscode/.local/lib/python3.11/site-packages (from selenium) (0.11.1)\n",
                        "Requirement already satisfied: certifi>=2021.10.8 in /home/vscode/.local/lib/python3.11/site-packages (from selenium) (2023.7.22)\n",
                        "Requirement already satisfied: attrs>=20.1.0 in /home/vscode/.local/lib/python3.11/site-packages (from trio~=0.17->selenium) (23.1.0)\n",
                        "Requirement already satisfied: sortedcontainers in /home/vscode/.local/lib/python3.11/site-packages (from trio~=0.17->selenium) (2.4.0)\n",
                        "Requirement already satisfied: idna in /home/vscode/.local/lib/python3.11/site-packages (from trio~=0.17->selenium) (3.4)\n",
                        "Requirement already satisfied: outcome in /home/vscode/.local/lib/python3.11/site-packages (from trio~=0.17->selenium) (1.3.0.post0)\n",
                        "Requirement already satisfied: sniffio>=1.3.0 in /home/vscode/.local/lib/python3.11/site-packages (from trio~=0.17->selenium) (1.3.0)\n",
                        "Requirement already satisfied: wsproto>=0.14 in /home/vscode/.local/lib/python3.11/site-packages (from trio-websocket~=0.9->selenium) (1.2.0)\n",
                        "Requirement already satisfied: pysocks!=1.5.7,<2.0,>=1.5.6 in /home/vscode/.local/lib/python3.11/site-packages (from urllib3[socks]<3,>=1.26->selenium) (1.7.1)\n",
                        "Requirement already satisfied: h11<1,>=0.9.0 in /home/vscode/.local/lib/python3.11/site-packages (from wsproto>=0.14->trio-websocket~=0.9->selenium) (0.14.0)\n",
                        "\n",
                        "\u001b[1m[\u001b[0m\u001b[34;49mnotice\u001b[0m\u001b[1;39;49m]\u001b[0m\u001b[39;49m A new release of pip is available: \u001b[0m\u001b[31;49m23.1.2\u001b[0m\u001b[39;49m -> \u001b[0m\u001b[32;49m23.3.1\u001b[0m\n",
                        "\u001b[1m[\u001b[0m\u001b[34;49mnotice\u001b[0m\u001b[1;39;49m]\u001b[0m\u001b[39;49m To update, run: \u001b[0m\u001b[32;49mpip install --upgrade pip\u001b[0m\n",
                        "Defaulting to user installation because normal site-packages is not writeable\n",
                        "Requirement already satisfied: bs4 in /home/vscode/.local/lib/python3.11/site-packages (0.0.1)\n",
                        "Requirement already satisfied: beautifulsoup4 in /home/vscode/.local/lib/python3.11/site-packages (from bs4) (4.12.2)\n",
                        "Requirement already satisfied: soupsieve>1.2 in /home/vscode/.local/lib/python3.11/site-packages (from beautifulsoup4->bs4) (2.5)\n",
                        "\n",
                        "\u001b[1m[\u001b[0m\u001b[34;49mnotice\u001b[0m\u001b[1;39;49m]\u001b[0m\u001b[39;49m A new release of pip is available: \u001b[0m\u001b[31;49m23.1.2\u001b[0m\u001b[39;49m -> \u001b[0m\u001b[32;49m23.3.1\u001b[0m\n",
                        "\u001b[1m[\u001b[0m\u001b[34;49mnotice\u001b[0m\u001b[1;39;49m]\u001b[0m\u001b[39;49m To update, run: \u001b[0m\u001b[32;49mpip install --upgrade pip\u001b[0m\n"
                    ]
                }
            ],
            "source": [
                "!pip install selenium\n",
                "!pip install bs4"
            ]
        },
        {
            "cell_type": "code",
            "execution_count": 1,
            "metadata": {},
            "outputs": [
                {
                    "ename": "SessionNotCreatedException",
                    "evalue": "Message: session not created: Chrome failed to start: exited normally.\n  (session not created: DevToolsActivePort file doesn't exist)\n  (The process started from chrome location /home/vscode/.cache/selenium/chrome/linux64/119.0.6045.105/chrome is no longer running, so ChromeDriver is assuming that Chrome has crashed.)\nStacktrace:\n#0 0x555ac23695e3 <unknown>\n#1 0x555ac202c0b7 <unknown>\n#2 0x555ac2062e55 <unknown>\n#3 0x555ac205fb81 <unknown>\n#4 0x555ac20aa47f <unknown>\n#5 0x555ac20a0cc3 <unknown>\n#6 0x555ac206c0e4 <unknown>\n#7 0x555ac206d0ae <unknown>\n#8 0x555ac232fce1 <unknown>\n#9 0x555ac2333b7e <unknown>\n#10 0x555ac231d4b5 <unknown>\n#11 0x555ac23347d6 <unknown>\n#12 0x555ac2300dbf <unknown>\n#13 0x555ac2357748 <unknown>\n#14 0x555ac2357917 <unknown>\n#15 0x555ac2368773 <unknown>\n#16 0x7faa05e3dea7 start_thread\n",
                    "output_type": "error",
                    "traceback": [
                        "\u001b[0;31m---------------------------------------------------------------------------\u001b[0m",
                        "\u001b[0;31mSessionNotCreatedException\u001b[0m                Traceback (most recent call last)",
                        "\u001b[1;32m/workspaces/machine-learning-python-template/src/explore.ipynb Cell 3\u001b[0m line \u001b[0;36m1\n\u001b[1;32m     <a href='vscode-notebook-cell://codespaces%2Bexpert-parakeet-p6px9qx6qpphrr4v/workspaces/machine-learning-python-template/src/explore.ipynb#X14sdnNjb2RlLXJlbW90ZQ%3D%3D?line=9'>10</a>\u001b[0m \u001b[39m# Obtener la data de los vinos desde la página de la CAV/tienda\u001b[39;00m\n\u001b[1;32m     <a href='vscode-notebook-cell://codespaces%2Bexpert-parakeet-p6px9qx6qpphrr4v/workspaces/machine-learning-python-template/src/explore.ipynb#X14sdnNjb2RlLXJlbW90ZQ%3D%3D?line=10'>11</a>\u001b[0m data \u001b[39m=\u001b[39m []\n\u001b[0;32m---> <a href='vscode-notebook-cell://codespaces%2Bexpert-parakeet-p6px9qx6qpphrr4v/workspaces/machine-learning-python-template/src/explore.ipynb#X14sdnNjb2RlLXJlbW90ZQ%3D%3D?line=11'>12</a>\u001b[0m driver \u001b[39m=\u001b[39m webdriver\u001b[39m.\u001b[39;49mChrome()\n\u001b[1;32m     <a href='vscode-notebook-cell://codespaces%2Bexpert-parakeet-p6px9qx6qpphrr4v/workspaces/machine-learning-python-template/src/explore.ipynb#X14sdnNjb2RlLXJlbW90ZQ%3D%3D?line=13'>14</a>\u001b[0m \u001b[39mfor\u001b[39;00m x \u001b[39min\u001b[39;00m \u001b[39mrange\u001b[39m(\u001b[39m50\u001b[39m):\n\u001b[1;32m     <a href='vscode-notebook-cell://codespaces%2Bexpert-parakeet-p6px9qx6qpphrr4v/workspaces/machine-learning-python-template/src/explore.ipynb#X14sdnNjb2RlLXJlbW90ZQ%3D%3D?line=14'>15</a>\u001b[0m     url \u001b[39m=\u001b[39m \u001b[39mf\u001b[39m\u001b[39m\"\u001b[39m\u001b[39mhttps://cav.cl/tienda?q=&hPP=20&idx=products&p=\u001b[39m\u001b[39m{\u001b[39;00mx\u001b[39m}\u001b[39;00m\u001b[39m&fR%5Bfamily.name%5D%5B0%5D=Vinos&is_v=1\u001b[39m\u001b[39m\"\u001b[39m\n",
                        "File \u001b[0;32m~/.local/lib/python3.11/site-packages/selenium/webdriver/chrome/webdriver.py:45\u001b[0m, in \u001b[0;36mWebDriver.__init__\u001b[0;34m(self, options, service, keep_alive)\u001b[0m\n\u001b[1;32m     42\u001b[0m service \u001b[39m=\u001b[39m service \u001b[39mif\u001b[39;00m service \u001b[39melse\u001b[39;00m Service()\n\u001b[1;32m     43\u001b[0m options \u001b[39m=\u001b[39m options \u001b[39mif\u001b[39;00m options \u001b[39melse\u001b[39;00m Options()\n\u001b[0;32m---> 45\u001b[0m \u001b[39msuper\u001b[39;49m()\u001b[39m.\u001b[39;49m\u001b[39m__init__\u001b[39;49m(\n\u001b[1;32m     46\u001b[0m     DesiredCapabilities\u001b[39m.\u001b[39;49mCHROME[\u001b[39m\"\u001b[39;49m\u001b[39mbrowserName\u001b[39;49m\u001b[39m\"\u001b[39;49m],\n\u001b[1;32m     47\u001b[0m     \u001b[39m\"\u001b[39;49m\u001b[39mgoog\u001b[39;49m\u001b[39m\"\u001b[39;49m,\n\u001b[1;32m     48\u001b[0m     options,\n\u001b[1;32m     49\u001b[0m     service,\n\u001b[1;32m     50\u001b[0m     keep_alive,\n\u001b[1;32m     51\u001b[0m )\n",
                        "File \u001b[0;32m~/.local/lib/python3.11/site-packages/selenium/webdriver/chromium/webdriver.py:56\u001b[0m, in \u001b[0;36mChromiumDriver.__init__\u001b[0;34m(self, browser_name, vendor_prefix, options, service, keep_alive)\u001b[0m\n\u001b[1;32m     53\u001b[0m \u001b[39mself\u001b[39m\u001b[39m.\u001b[39mservice\u001b[39m.\u001b[39mstart()\n\u001b[1;32m     55\u001b[0m \u001b[39mtry\u001b[39;00m:\n\u001b[0;32m---> 56\u001b[0m     \u001b[39msuper\u001b[39;49m()\u001b[39m.\u001b[39;49m\u001b[39m__init__\u001b[39;49m(\n\u001b[1;32m     57\u001b[0m         command_executor\u001b[39m=\u001b[39;49mChromiumRemoteConnection(\n\u001b[1;32m     58\u001b[0m             remote_server_addr\u001b[39m=\u001b[39;49m\u001b[39mself\u001b[39;49m\u001b[39m.\u001b[39;49mservice\u001b[39m.\u001b[39;49mservice_url,\n\u001b[1;32m     59\u001b[0m             browser_name\u001b[39m=\u001b[39;49mbrowser_name,\n\u001b[1;32m     60\u001b[0m             vendor_prefix\u001b[39m=\u001b[39;49mvendor_prefix,\n\u001b[1;32m     61\u001b[0m             keep_alive\u001b[39m=\u001b[39;49mkeep_alive,\n\u001b[1;32m     62\u001b[0m             ignore_proxy\u001b[39m=\u001b[39;49moptions\u001b[39m.\u001b[39;49m_ignore_local_proxy,\n\u001b[1;32m     63\u001b[0m         ),\n\u001b[1;32m     64\u001b[0m         options\u001b[39m=\u001b[39;49moptions,\n\u001b[1;32m     65\u001b[0m     )\n\u001b[1;32m     66\u001b[0m \u001b[39mexcept\u001b[39;00m \u001b[39mException\u001b[39;00m:\n\u001b[1;32m     67\u001b[0m     \u001b[39mself\u001b[39m\u001b[39m.\u001b[39mquit()\n",
                        "File \u001b[0;32m~/.local/lib/python3.11/site-packages/selenium/webdriver/remote/webdriver.py:208\u001b[0m, in \u001b[0;36mWebDriver.__init__\u001b[0;34m(self, command_executor, keep_alive, file_detector, options)\u001b[0m\n\u001b[1;32m    206\u001b[0m \u001b[39mself\u001b[39m\u001b[39m.\u001b[39m_authenticator_id \u001b[39m=\u001b[39m \u001b[39mNone\u001b[39;00m\n\u001b[1;32m    207\u001b[0m \u001b[39mself\u001b[39m\u001b[39m.\u001b[39mstart_client()\n\u001b[0;32m--> 208\u001b[0m \u001b[39mself\u001b[39;49m\u001b[39m.\u001b[39;49mstart_session(capabilities)\n",
                        "File \u001b[0;32m~/.local/lib/python3.11/site-packages/selenium/webdriver/remote/webdriver.py:292\u001b[0m, in \u001b[0;36mWebDriver.start_session\u001b[0;34m(self, capabilities)\u001b[0m\n\u001b[1;32m    285\u001b[0m \u001b[39m\u001b[39m\u001b[39m\"\"\"Creates a new session with the desired capabilities.\u001b[39;00m\n\u001b[1;32m    286\u001b[0m \n\u001b[1;32m    287\u001b[0m \u001b[39m:Args:\u001b[39;00m\n\u001b[1;32m    288\u001b[0m \u001b[39m - capabilities - a capabilities dict to start the session with.\u001b[39;00m\n\u001b[1;32m    289\u001b[0m \u001b[39m\"\"\"\u001b[39;00m\n\u001b[1;32m    291\u001b[0m caps \u001b[39m=\u001b[39m _create_caps(capabilities)\n\u001b[0;32m--> 292\u001b[0m response \u001b[39m=\u001b[39m \u001b[39mself\u001b[39;49m\u001b[39m.\u001b[39;49mexecute(Command\u001b[39m.\u001b[39;49mNEW_SESSION, caps)[\u001b[39m\"\u001b[39m\u001b[39mvalue\u001b[39m\u001b[39m\"\u001b[39m]\n\u001b[1;32m    293\u001b[0m \u001b[39mself\u001b[39m\u001b[39m.\u001b[39msession_id \u001b[39m=\u001b[39m response\u001b[39m.\u001b[39mget(\u001b[39m\"\u001b[39m\u001b[39msessionId\u001b[39m\u001b[39m\"\u001b[39m)\n\u001b[1;32m    294\u001b[0m \u001b[39mself\u001b[39m\u001b[39m.\u001b[39mcaps \u001b[39m=\u001b[39m response\u001b[39m.\u001b[39mget(\u001b[39m\"\u001b[39m\u001b[39mcapabilities\u001b[39m\u001b[39m\"\u001b[39m)\n",
                        "File \u001b[0;32m~/.local/lib/python3.11/site-packages/selenium/webdriver/remote/webdriver.py:347\u001b[0m, in \u001b[0;36mWebDriver.execute\u001b[0;34m(self, driver_command, params)\u001b[0m\n\u001b[1;32m    345\u001b[0m response \u001b[39m=\u001b[39m \u001b[39mself\u001b[39m\u001b[39m.\u001b[39mcommand_executor\u001b[39m.\u001b[39mexecute(driver_command, params)\n\u001b[1;32m    346\u001b[0m \u001b[39mif\u001b[39;00m response:\n\u001b[0;32m--> 347\u001b[0m     \u001b[39mself\u001b[39;49m\u001b[39m.\u001b[39;49merror_handler\u001b[39m.\u001b[39;49mcheck_response(response)\n\u001b[1;32m    348\u001b[0m     response[\u001b[39m\"\u001b[39m\u001b[39mvalue\u001b[39m\u001b[39m\"\u001b[39m] \u001b[39m=\u001b[39m \u001b[39mself\u001b[39m\u001b[39m.\u001b[39m_unwrap_value(response\u001b[39m.\u001b[39mget(\u001b[39m\"\u001b[39m\u001b[39mvalue\u001b[39m\u001b[39m\"\u001b[39m, \u001b[39mNone\u001b[39;00m))\n\u001b[1;32m    349\u001b[0m     \u001b[39mreturn\u001b[39;00m response\n",
                        "File \u001b[0;32m~/.local/lib/python3.11/site-packages/selenium/webdriver/remote/errorhandler.py:229\u001b[0m, in \u001b[0;36mErrorHandler.check_response\u001b[0;34m(self, response)\u001b[0m\n\u001b[1;32m    227\u001b[0m         alert_text \u001b[39m=\u001b[39m value[\u001b[39m\"\u001b[39m\u001b[39malert\u001b[39m\u001b[39m\"\u001b[39m]\u001b[39m.\u001b[39mget(\u001b[39m\"\u001b[39m\u001b[39mtext\u001b[39m\u001b[39m\"\u001b[39m)\n\u001b[1;32m    228\u001b[0m     \u001b[39mraise\u001b[39;00m exception_class(message, screen, stacktrace, alert_text)  \u001b[39m# type: ignore[call-arg]  # mypy is not smart enough here\u001b[39;00m\n\u001b[0;32m--> 229\u001b[0m \u001b[39mraise\u001b[39;00m exception_class(message, screen, stacktrace)\n",
                        "\u001b[0;31mSessionNotCreatedException\u001b[0m: Message: session not created: Chrome failed to start: exited normally.\n  (session not created: DevToolsActivePort file doesn't exist)\n  (The process started from chrome location /home/vscode/.cache/selenium/chrome/linux64/119.0.6045.105/chrome is no longer running, so ChromeDriver is assuming that Chrome has crashed.)\nStacktrace:\n#0 0x555ac23695e3 <unknown>\n#1 0x555ac202c0b7 <unknown>\n#2 0x555ac2062e55 <unknown>\n#3 0x555ac205fb81 <unknown>\n#4 0x555ac20aa47f <unknown>\n#5 0x555ac20a0cc3 <unknown>\n#6 0x555ac206c0e4 <unknown>\n#7 0x555ac206d0ae <unknown>\n#8 0x555ac232fce1 <unknown>\n#9 0x555ac2333b7e <unknown>\n#10 0x555ac231d4b5 <unknown>\n#11 0x555ac23347d6 <unknown>\n#12 0x555ac2300dbf <unknown>\n#13 0x555ac2357748 <unknown>\n#14 0x555ac2357917 <unknown>\n#15 0x555ac2368773 <unknown>\n#16 0x7faa05e3dea7 start_thread\n"
                    ]
                }
            ],
            "source": [
                "# Obtención de url de productos de la CAV - URL guardadas en CSV\n",
                "\n",
                "import numpy as np\n",
                "import pandas as pd\n",
                "from selenium import webdriver\n",
                "from selenium.webdriver.common.by import By\n",
                "from selenium.webdriver.support.ui import WebDriverWait\n",
                "from selenium.webdriver.support import expected_conditions as EC\n",
                "from selenium.common.exceptions import NoSuchElementException, TimeoutException\n",
                "from bs4 import BeautifulSoup as soup\n",
                "\n",
                "# Obtener la data de los vinos desde la página de la CAV/tienda\n",
                "data = []\n",
                "driver = webdriver.Chrome()\n",
                "\n",
                "for x in range(50):\n",
                "    url = f\"https://cav.cl/tienda?q=&hPP=20&idx=products&p={x}&fR%5Bfamily.name%5D%5B0%5D=Vinos&is_v=1\"\n",
                "    driver.get(url)\n",
                "    \n",
                "    try:\n",
                "        age_verification_popup = WebDriverWait(driver, 10).until(\n",
                "            EC.presence_of_element_located((By.ID, 'modalAge'))\n",
                "        )\n",
                "        yes_button = age_verification_popup.find_element(By.XPATH, \".//button[contains(., 'SI')]\")\n",
                "        yes_button.click()\n",
                "    except (NoSuchElementException, TimeoutException):\n",
                "        pass\n",
                "\n",
                "    page_soup = soup(driver.page_source, 'html.parser')\n",
                "    \n",
                "    info = []\n",
                "    for article in page_soup.find_all(\"article\"):\n",
                "        id = article.attrs.get(\"data-id\")\n",
                "        sku = article.attrs.get(\"data-sku\")\n",
                "        name = article.attrs.get(\"data-name\")\n",
                "        brand = article.attrs.get(\"data-brand\")\n",
                "        category = article.attrs.get(\"data-category\")\n",
                "        variant = article.attrs.get(\"data-variant\")\n",
                "        ref = article.find(\"a\").attrs.get(\"href\")\n",
                "        info.append([id, sku, name, brand, category, variant, ref])\n",
                "    \n",
                "    data.append(info)\n",
                "    \n",
                "    # Guardar datos en un archivo CSV después de cada iteración\n",
                "    df_partial = pd.DataFrame(info, columns=['id', 'sku', 'name', 'brand', 'category', 'variant', 'ref'])\n",
                "    df_partial.drop_duplicates(\"id\", inplace=True)\n",
                "    df_partial.to_csv(f\"data//raw//vinos_parte_{x}.csv\", sep=',', mode='w', index=False)\n",
                "\n",
                "driver.quit()\n",
                "\n",
                "# Reshape la data\n",
                "reshaped_data = [item for sublist in data for item in sublist]\n",
                "\n",
                "# Crear el DataFrame\n",
                "df = pd.DataFrame(reshaped_data, columns=['id', 'sku', 'name', 'brand', 'category', 'variant', 'ref'])\n",
                "\n",
                "# Eliminar los duplicados\n",
                "df.drop_duplicates(\"id\", inplace=True)\n",
                "\n",
                "# Guardar CSV de los vinos encontrados\n",
                "df.to_csv(\"data//raw//vinos.csv\", sep=',', mode='w', index=False)\n",
                "\n",
                "# Borrar los pack de vinos\n",
                "df_filtered = df.drop(axis=0, index=df.index[:8])\n",
                "\n",
                "# Completar la URL en la columna 'ref'\n",
                "df_filtered['ref'] = 'https://cav.cl/' + df_filtered['ref'].astype(str)\n",
                "\n",
                "# Guardar CSV solo vinos\n",
                "df_filtered.to_csv(\"url_products.csv\", sep=',', mode='w', index=False)\n"
            ]
        },
        {
            "cell_type": "code",
            "execution_count": null,
            "metadata": {},
            "outputs": [],
            "source": [
                "#  Obtención de detallada de cada producto desde la URL scrapeada \n",
                "\n",
                "import requests\n",
                "from bs4 import BeautifulSoup\n",
                "import csv\n",
                "\n",
                "# Leer las URL desde el archivo CSV\n",
                "url_list = []\n",
                "\n",
                "with open('product_url_list.csv', 'r') as csv_file:\n",
                "    csv_reader = csv.DictReader(csv_file)\n",
                "    for row in csv_reader:\n",
                "        url = row['URL']\n",
                "        url_list.append(url)\n",
                "\n",
                "# Crear una lista para almacenar los datos de cada producto\n",
                "all_product_data = []\n",
                "\n",
                "for url in url_list:\n",
                "    response = requests.get(url)\n",
                "    soup = BeautifulSoup(response.text, 'html.parser')\n",
                "\n",
                "    # Acceder a los atributos 'data-*' de la etiqueta 'section'\n",
                "    product_section = soup.select_one('section.c-product')\n",
                "\n",
                "    product_id = product_section['data-id']\n",
                "    product_sku = product_section['data-sku']\n",
                "    product_name = product_section['data-name']\n",
                "    product_brand = product_section['data-brand']\n",
                "    product_category = product_section['data-category']\n",
                "    product_variant = product_section['data-variant']\n",
                "    product_price = product_section['data-price']\n",
                "\n",
                "    # Acceder a la ficha técnica\n",
                "    wine_table = soup.find('table', class_='table table-striped')\n",
                "\n",
                "    # Inicializar variables para los campos de la tabla\n",
                "    wine_data = {\n",
                "        \"vinyard\": \"\",\n",
                "        \"strain\": \"\",\n",
                "        \"harvest\": \"\",\n",
                "        \"origin\": \"\",\n",
                "        \"line\": \"\",\n",
                "        \"format\": \"\",\n",
                "        \"type\": \"\",\n",
                "        \"alcohol_degrees\": \"\",\n",
                "        \"blend\": \"\",\n",
                "        \"guard\": \"\",\n",
                "        \"pairing\": \"\"\n",
                "    }\n",
                "\n",
                "    if wine_table:\n",
                "        # Obtener todas las filas de la tabla\n",
                "        rows = wine_table.find_all('tr')\n",
                "\n",
                "        for row in rows:\n",
                "            header = row.find('th')\n",
                "            data = row.find('td')\n",
                "\n",
                "            if header and data:\n",
                "                header_text = header.text.strip()\n",
                "                data_text = data.text.strip()\n",
                "\n",
                "                # Asignar los datos a las categorías correspondientes\n",
                "                if header_text in wine_data:\n",
                "                    wine_data[header_text] = data_text\n",
                "\n",
                "    # Acceder al puntaje y calificaciones\n",
                "    score_section = product_section.select_one('.c-product__score')\n",
                "\n",
                "    if score_section is not None:\n",
                "        lacav_score_element = score_section.select_one('.o-score--lacav .o-score__points')\n",
                "        if lacav_score_element is not None:\n",
                "            lacav_score = lacav_score_element.text\n",
                "        else:\n",
                "            lacav_score = \"No score available\"\n",
                "    else:\n",
                "        lacav_score = \"No score available\"\n",
                "\n",
                "    # description\n",
                "    description = soup.select_one('.c-product__body p').text.strip()\n",
                "\n",
                "    # Información de precios y stock\n",
                "    price_info = soup.select_one('.c-product__price')\n",
                "    socio_price = price_info.select('p.o-text--price-store')[0].text\n",
                "    normal_price = price_info.select('p.o-text--small')[0].text\n",
                "    stock = price_info.select('p.o-text--small')[1].text\n",
                "\n",
                "    # Acceder a la image_url\n",
                "    product_image = soup.select_one('div.c-product__thumb img')['src']\n",
                "\n",
                "    # Acceder a la sección de percepción\n",
                "    sheet_body = soup.select_one('div.c-sheet__body')\n",
                "    dl_elements = sheet_body.find_all('dl', class_='c-sheet__feature--chart') if sheet_body else []\n",
                "\n",
                "    perception_data = {}\n",
                "\n",
                "    for dl in dl_elements:\n",
                "        # Acceder al contenido de c-sheet__signify\n",
                "        signify = dl.select_one('dd.c-sheet__signify').text.strip()\n",
                "\n",
                "        # Acceder al contenido de c-chart__track\n",
                "        chart_track = dl.select_one('div.c-chart__track')\n",
                "        chart_class_element = chart_track.find('div', class_='c-chart__percent') if chart_track else None\n",
                "        if chart_class_element and 'class' in chart_class_element.attrs:\n",
                "            chart_class = chart_class_element['class'][1]\n",
                "\n",
                "        # Mapear chart_class a su valor correspondiente\n",
                "        chart_class_map = {\n",
                "            'c-chart__percent--0': 0,\n",
                "            'c-chart__percent--20': 0.2,\n",
                "            'c-chart__percent--40': 0.4,\n",
                "            'c-chart__percent--60': 0.6,\n",
                "            'c-chart__percent--80': 0.8,\n",
                "            'c-chart__percent--100': 1\n",
                "        }\n",
                "        chart_value = chart_class_map.get(chart_class, None)\n",
                "\n",
                "        perception_data[signify] = chart_value\n",
                "\n",
                "    # Crear un diccionario con la información\n",
                "    product_data = {\n",
                "        \"url_product\": url,\n",
                "        \"product_internal_id\": product_id,\n",
                "        \"product_code\": product_sku,\n",
                "        \"product_name\": product_name,\n",
                "        \"product_brand\": product_brand,\n",
                "        \"product_category\": product_category,\n",
                "        \"variant\": product_variant,\n",
                "        \"price\": product_price,\n",
                "        \"cav_points\": lacav_score,\n",
                "        \"description\": description,\n",
                "        \"member_price\": socio_price,\n",
                "        \"normal_price\": normal_price,\n",
                "        \"stock\": stock,\n",
                "        \"image_url\": product_image,\n",
                "        \"vinyard\": wine_data[\"vinyard\"],\n",
                "        \"strain\": wine_data[\"strain\"],\n",
                "        \"harvest\": wine_data[\"harvest\"],\n",
                "        \"origin\": wine_data[\"origin\"],\n",
                "        \"line\": wine_data[\"line\"],\n",
                "        \"format\": wine_data[\"format\"],\n",
                "        \"type\": wine_data[\"type\"],\n",
                "        \"alcohol_degrees\": wine_data[\"alcohol_degrees\"],\n",
                "        \"blend\": wine_data[\"blend\"],\n",
                "        \"guard\": wine_data[\"guard\"],\n",
                "        \"pairing\": wine_data[\"pairing\"],\n",
                "        **perception_data  # Agregar datos de percepción\n",
                "    }\n",
                "\n",
                "    all_product_data.append(product_data)\n",
                "\n",
                "# Resto del código sin cambios\n",
                "\n",
                "fieldnames = [\n",
                "    \"url_product\",\n",
                "    \"product_internal_id\",\n",
                "    \"product_code\",\n",
                "    \"product_name\",\n",
                "    \"product_brand\",\n",
                "    \"product_category\",\n",
                "    \"variant\",\n",
                "    \"price\",\n",
                "    \"cav_points\",\n",
                "    \"description\",\n",
                "    \"member_price\",\n",
                "    \"normal_price\",\n",
                "    \"stock\",\n",
                "    \"image_url\",\n",
                "    \"vinyard\",\n",
                "    \"strain\",\n",
                "    \"harvest\",\n",
                "    \"origin\",\n",
                "    \"line\",\n",
                "    \"format\",\n",
                "    \"type\",\n",
                "    \"alcohol_degrees\",\n",
                "    \"blend\",\n",
                "    \"guard\",\n",
                "    \"pairing\",\n",
                "    \"Cuerpo\",\n",
                "    \"Frescor\",\n",
                "    \"Dulzura\",\n",
                "    \"Astringencia\"\n",
                "]\n",
                "\n",
                "\n",
                "# guardr los datos en un archivo CSV\n",
                "csv_filename = \"productos.csv\"\n",
                "\n",
                "with open(csv_filename, mode='w', newline='') as csv_file:\n",
                "    writer = csv.DictWriter(csv_file, fieldnames=fieldnames)\n",
                "    writer.writeheader()\n",
                "    for product_data in all_product_data:\n",
                "        writer.writerow(product_data)\n",
                "\n"
            ]
        },
        {
            "cell_type": "markdown",
            "metadata": {},
            "source": [
                "# 3. Almacenamiento de la información"
            ]
        },
        {
            "cell_type": "code",
            "execution_count": 53,
            "metadata": {},
            "outputs": [],
            "source": [
                "import pandas as pd\n",
                "\n",
                "productos = pd.read_csv('../data/raw/productos.csv') \n",
                "meridaje = pd.read_csv('../data/raw/meridaje.csv')\n",
                "ranking = pd.read_csv('../data/raw/brand_shopper_rank.csv') "
            ]
        },
        {
            "cell_type": "code",
            "execution_count": 54,
            "metadata": {},
            "outputs": [
                {
                    "data": {
                        "text/plain": [
                            "3604"
                        ]
                    },
                    "execution_count": 54,
                    "metadata": {},
                    "output_type": "execute_result"
                }
            ],
            "source": [
                "import sqlite3\n",
                "\n",
                "conn = sqlite3.connect(\"../data/wine_db.db\")\n",
                "productos.to_sql(\"productos\", conn, if_exists=\"replace\", index=False)\n",
                "meridaje.to_sql(\"meridaje\", conn, if_exists=\"replace\", index=False)\n",
                "ranking.to_sql(\"ranking\", conn, if_exists=\"replace\", index=False)"
            ]
        },
        {
            "cell_type": "code",
            "execution_count": 55,
            "metadata": {},
            "outputs": [],
            "source": [
                "query = \"\"\"\n",
                "SELECT *\n",
                "FROM productos\n",
                "JOIN meridaje\n",
                "ON productos.variant = meridaje.variant\n",
                "LEFT JOIN ranking\n",
                "ON productos.product_brand = ranking.brand\n",
                ";\n",
                "\"\"\"\n",
                "\n",
                "df = pd.read_sql_query(query, conn)\n",
                "\n",
                "#Eliminar filas duplicadas\n",
                "df = df.loc[:, ~df.columns.duplicated()]\n",
                "\n",
                "df = df.rename(columns={'Cuerpo':'body','Astringencia':'astringency','Frescor':'freshness','Dulzura':'sweetness'}) \n",
                "\n",
                "#Crear tabla \"wine_database\"\n",
                "df.to_sql(\"wine_database\", conn, if_exists=\"replace\", index=False)\n",
                "\n",
                "conn.close()"
            ]
        },
        {
            "cell_type": "markdown",
            "metadata": {},
            "source": [
                "# 4. Análisis descriptivo"
            ]
        },
        {
            "cell_type": "code",
            "execution_count": 56,
            "metadata": {},
            "outputs": [],
            "source": [
                "import sqlite3\n",
                "import pandas as pd\n",
                "\n",
                "conn = sqlite3.connect('../data/wine_db.db')\n",
                "\n",
                "# Leer tabla \"wine_database\"\n",
                "query = \"SELECT * FROM wine_database;\"\n",
                "df = pd.read_sql_query(query, conn)\n",
                "\n",
                "conn.close()"
            ]
        },
        {
            "cell_type": "code",
            "execution_count": 57,
            "metadata": {},
            "outputs": [
                {
                    "data": {
                        "text/plain": [
                            "Index(['url_product', 'product_internal_id', 'product_code', 'product_name',\n",
                            "       'product_brand', 'product_category', 'variant', 'price', 'cav_points',\n",
                            "       'description', 'member_price', 'normal_price', 'stock', 'image_url',\n",
                            "       'vinyard', 'strain', 'harvest', 'origin', 'line', 'format', 'type',\n",
                            "       'alcohol_degrees', 'blend', 'guard', 'pairing', 'body', 'freshness',\n",
                            "       'sweetness', 'astringency', 'brand', 'gender', 'age', 'ses', 'rank'],\n",
                            "      dtype='object')"
                        ]
                    },
                    "execution_count": 57,
                    "metadata": {},
                    "output_type": "execute_result"
                }
            ],
            "source": [
                "df.columns"
            ]
        },
        {
            "cell_type": "code",
            "execution_count": 58,
            "metadata": {},
            "outputs": [
                {
                    "name": "stdout",
                    "output_type": "stream",
                    "text": [
                        "<class 'pandas.core.frame.DataFrame'>\n",
                        "RangeIndex: 44500 entries, 0 to 44499\n",
                        "Data columns (total 34 columns):\n",
                        " #   Column               Non-Null Count  Dtype  \n",
                        "---  ------               --------------  -----  \n",
                        " 0   url_product          44500 non-null  object \n",
                        " 1   product_internal_id  44500 non-null  int64  \n",
                        " 2   product_code         44500 non-null  int64  \n",
                        " 3   product_name         44500 non-null  object \n",
                        " 4   product_brand        44500 non-null  object \n",
                        " 5   product_category     44500 non-null  object \n",
                        " 6   variant              44500 non-null  object \n",
                        " 7   price                44500 non-null  int64  \n",
                        " 8   cav_points           44500 non-null  object \n",
                        " 9   description          25755 non-null  object \n",
                        " 10  member_price         44500 non-null  object \n",
                        " 11  normal_price         44500 non-null  object \n",
                        " 12  stock                44500 non-null  object \n",
                        " 13  image_url            44500 non-null  object \n",
                        " 14  vinyard              44500 non-null  object \n",
                        " 15  strain               44500 non-null  object \n",
                        " 16  harvest              42918 non-null  float64\n",
                        " 17  origin               44500 non-null  object \n",
                        " 18  line                 44500 non-null  object \n",
                        " 19  format               44500 non-null  object \n",
                        " 20  type                 44500 non-null  object \n",
                        " 21  alcohol_degrees      11519 non-null  object \n",
                        " 22  blend                11519 non-null  object \n",
                        " 23  guard                11519 non-null  object \n",
                        " 24  pairing              27345 non-null  object \n",
                        " 25  body                 11519 non-null  float64\n",
                        " 26  freshness            11519 non-null  float64\n",
                        " 27  sweetness            11519 non-null  float64\n",
                        " 28  astringency          11519 non-null  float64\n",
                        " 29  brand                25331 non-null  object \n",
                        " 30  gender               25331 non-null  object \n",
                        " 31  age                  25331 non-null  object \n",
                        " 32  ses                  25331 non-null  object \n",
                        " 33  rank                 25331 non-null  float64\n",
                        "dtypes: float64(6), int64(3), object(25)\n",
                        "memory usage: 11.5+ MB\n"
                    ]
                }
            ],
            "source": [
                "df.info()"
            ]
        },
        {
            "cell_type": "markdown",
            "metadata": {},
            "source": [
                "# 5. EDA (Exploratory data analysis)"
            ]
        },
        {
            "cell_type": "markdown",
            "metadata": {},
            "source": [
                "# 6. Modelado y optimización"
            ]
        },
        {
            "cell_type": "markdown",
            "metadata": {},
            "source": [
                "# 7. Despliegue"
            ]
        }
    ],
    "metadata": {
        "kernelspec": {
            "display_name": "Python 3.8.13 64-bit ('3.8.13')",
            "language": "python",
            "name": "python3"
        },
        "language_info": {
            "codemirror_mode": {
                "name": "ipython",
                "version": 3
            },
            "file_extension": ".py",
            "mimetype": "text/x-python",
            "name": "python",
            "nbconvert_exporter": "python",
            "pygments_lexer": "ipython3",
            "version": "3.11.4"
        },
        "orig_nbformat": 4,
        "vscode": {
            "interpreter": {
                "hash": "110cc1dee26208153f2972f08a2ad52b6a56238dc66d48e87fb757ef2996db56"
            }
        }
    },
    "nbformat": 4,
    "nbformat_minor": 2
}
